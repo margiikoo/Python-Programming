{
 "cells": [
  {
   "cell_type": "markdown",
   "id": "61b875ea",
   "metadata": {},
   "source": [
    "# 1) word replacement program"
   ]
  },
  {
   "cell_type": "markdown",
   "id": "92528b5e",
   "metadata": {},
   "source": [
    "# This method is used to to replace some word by another word in the given string by python replace method."
   ]
  },
  {
   "cell_type": "code",
   "execution_count": 1,
   "id": "8bcf8e2c",
   "metadata": {
    "scrolled": true
   },
   "outputs": [
    {
     "name": "stdout",
     "output_type": "stream",
     "text": [
      "Enter the word to replace:Hi\n",
      "Enter the to word replacement:Hey\n",
      "Hey Marga don't worry you will live whatever the country you want next year\n"
     ]
    }
   ],
   "source": [
    "def replacement_word():\n",
    "    str= \"Hi Marga don't worry you will live whatever the country you want next year\"\n",
    "    word_to_replace=input('Enter the word to replace:')\n",
    "    word_replacement=input('Enter the to word replacement:')\n",
    "    print(str.replace(word_to_replace,word_replacement))\n",
    "replacement_word()"
   ]
  },
  {
   "cell_type": "markdown",
   "id": "23b7f7f0",
   "metadata": {},
   "source": [
    "# String replacement program"
   ]
  },
  {
   "cell_type": "code",
   "execution_count": 4,
   "id": "6de4b693",
   "metadata": {},
   "outputs": [
    {
     "name": "stdout",
     "output_type": "stream",
     "text": [
      "Enter the str to replace:Hi Marga don't worry you will live whatever the country you want next year\n",
      "Enter the str replacement:hey Marga welcome to norway the country of love and peace\n",
      "hey Marga welcome to norway the country of love and peace\n"
     ]
    }
   ],
   "source": [
    "def replacement_str():\n",
    "    sent = \"Hi Marga don't worry you will live whatever the country you want next year\"\n",
    "    str_to_replace = input('Enter the str to replace:')\n",
    "    str_replacement = input('Enter the str replacement:')\n",
    "    print(sent.replace(str_to_replace, str_replacement))\n",
    "\n",
    "replacement_str()\n"
   ]
  },
  {
   "cell_type": "markdown",
   "id": "f6754893",
   "metadata": {},
   "source": [
    "# 2) Basic Calculator program"
   ]
  },
  {
   "cell_type": "markdown",
   "id": "ee69e89d",
   "metadata": {},
   "source": [
    "# steps: define  the function needed:add,sub,mul,div\n",
    "        # print option to users\n",
    "        # ask for the values\n",
    "        # call the functions\n",
    "        # while loop to comtinue until the user want to exit"
   ]
  },
  {
   "cell_type": "code",
   "execution_count": null,
   "id": "777f43d7",
   "metadata": {},
   "outputs": [],
   "source": [
    "def add(a, b):\n",
    "    answer = a + b\n",
    "    print(str(a) + \" + \" + str(b) + \" = \" + str(answer))\n",
    "\n",
    "def sub(a, b):\n",
    "    answer = a - b\n",
    "    print(str(a) + \" - \" + str(b) + \" = \" + str(answer))\n",
    "\n",
    "def mul(a, b):\n",
    "    answer = a * b\n",
    "    print(str(a) + \" * \" + str(b) + \" = \" + str(answer))\n",
    "\n",
    "def div(a, b):\n",
    "    answer = a / b\n",
    "    print(str(a) + \" / \" + str(b) + \" = \" + str(answer))\n",
    "\n",
    "while True:\n",
    "    print(\"A. Addition\")\n",
    "    print(\"B. Subtraction\")\n",
    "    print(\"C. Multiplication\")\n",
    "    print(\"D. Division\")\n",
    "    print(\"E. Exit\")\n",
    "    choice = input(\"Input your choice: \")\n",
    "\n",
    "    if choice.lower() == 'a':\n",
    "        print(\"Addition\")\n",
    "        a = int(input('Enter the first number: '))\n",
    "        b = int(input('Enter the second number: '))\n",
    "        add(a, b)\n",
    "    elif choice.lower() == 'b':\n",
    "        print(\"Subtraction\")\n",
    "        a = int(input(\"Enter the first number: \"))\n",
    "        b = int(input(\"Enter the second number: \"))\n",
    "        sub(a, b)\n",
    "    elif choice.lower() == 'c':\n",
    "        print(\"Multiplication\")\n",
    "        a = int(input(\"Enter the first number: \"))\n",
    "        b = int(input(\"Enter the second number: \"))\n",
    "        mul(a, b)\n",
    "    elif choice.lower() == 'd':\n",
    "        print(\"Division\")\n",
    "        a = int(input(\"Enter the first number: \"))\n",
    "        b = int(input(\"Enter the second number: \"))\n",
    "        div(a, b)\n",
    "    elif choice=='e'\n",
    "        print(\"Program ended\")\n",
    "        quit()"
   ]
  },
  {
   "cell_type": "code",
   "execution_count": 1,
   "id": "7b6ce9f0",
   "metadata": {},
   "outputs": [
    {
     "name": "stdout",
     "output_type": "stream",
     "text": [
      "A. Addition\n",
      "B. Subtraction\n",
      "C. Multiplication\n",
      "D. Division\n",
      "E. Exit\n",
      "Input your choice: a\n",
      "Addition\n",
      "Enter the first number: 2\n",
      "Enter the second number: 3\n",
      "2 + 3 = 5\n",
      "A. Addition\n",
      "B. Subtraction\n",
      "C. Multiplication\n",
      "D. Division\n",
      "E. Exit\n",
      "Input your choice: b\n",
      "Subtraction\n",
      "Enter the first number: 8\n",
      "Enter the second number: 4\n",
      "8 - 4 = 4\n",
      "A. Addition\n",
      "B. Subtraction\n",
      "C. Multiplication\n",
      "D. Division\n",
      "E. Exit\n",
      "Input your choice: c\n",
      "Multiplication\n",
      "Enter the first number: 2\n",
      "Enter the second number: 6\n",
      "2 * 6 = 12\n",
      "A. Addition\n",
      "B. Subtraction\n",
      "C. Multiplication\n",
      "D. Division\n",
      "E. Exit\n",
      "Input your choice: d\n",
      "Division\n",
      "Enter the first number: 8\n",
      "Enter the second number: 2\n",
      "8 / 2 = 4.0\n",
      "A. Addition\n",
      "B. Subtraction\n",
      "C. Multiplication\n",
      "D. Division\n",
      "E. Exit\n",
      "Input your choice: g\n",
      "Invalid choice. Please choose a valid option (A, B, C, D, or E).\n",
      "A. Addition\n",
      "B. Subtraction\n",
      "C. Multiplication\n",
      "D. Division\n",
      "E. Exit\n",
      "Input your choice: e\n",
      "Program ended\n"
     ]
    }
   ],
   "source": [
    "def add(a, b):\n",
    "    answer = a + b\n",
    "    print(str(a) + \" + \" + str(b) + \" = \" + str(answer))\n",
    "\n",
    "def sub(a, b):\n",
    "    answer = a - b\n",
    "    print(str(a) + \" - \" + str(b) + \" = \" + str(answer))\n",
    "\n",
    "def mul(a, b):\n",
    "    answer = a * b\n",
    "    print(str(a) + \" * \" + str(b) + \" = \" + str(answer))\n",
    "\n",
    "def div(a, b):\n",
    "    answer = a / b\n",
    "    print(str(a) + \" / \" + str(b) + \" = \" + str(answer))\n",
    "\n",
    "while True:\n",
    "    print(\"A. Addition\")\n",
    "    print(\"B. Subtraction\")\n",
    "    print(\"C. Multiplication\")\n",
    "    print(\"D. Division\")\n",
    "    print(\"E. Exit\")\n",
    "    choice = input(\"Input your choice: \")\n",
    "\n",
    "    if choice.lower() == 'a':\n",
    "        print(\"Addition\")\n",
    "        a = int(input('Enter the first number: '))\n",
    "        b = int(input('Enter the second number: '))\n",
    "        add(a, b)\n",
    "    elif choice.lower() == 'b':\n",
    "        print(\"Subtraction\")\n",
    "        a = int(input(\"Enter the first number: \"))\n",
    "        b = int(input(\"Enter the second number: \"))\n",
    "        sub(a, b)\n",
    "    elif choice.lower() == 'c':\n",
    "        print(\"Multiplication\")\n",
    "        a = int(input(\"Enter the first number: \"))\n",
    "        b = int(input(\"Enter the second number: \"))\n",
    "        mul(a, b)\n",
    "    elif choice.lower() == 'd':\n",
    "        print(\"Division\")\n",
    "        a = int(input(\"Enter the first number: \"))\n",
    "        b = int(input(\"Enter the second number: \"))\n",
    "        div(a, b)\n",
    "    elif choice.lower() == 'e':\n",
    "        print(\"Program ended\")\n",
    "        break\n",
    "    else:\n",
    "        print(\"Invalid choice. Please choose a valid option (A, B, C, D, or E).\")"
   ]
  },
  {
   "cell_type": "code",
   "execution_count": 13,
   "id": "aa12cbf1",
   "metadata": {},
   "outputs": [
    {
     "name": "stdout",
     "output_type": "stream",
     "text": [
      "A. Addition\n",
      "B. Subtraction\n",
      "C. Multiplication\n",
      "D. Division\n",
      "E. Exit\n",
      "Input your choice: a\n",
      "Addition\n",
      "Enter the first number: 2\n",
      "Enter the second number: 3\n",
      "5\n",
      "A. Addition\n",
      "B. Subtraction\n",
      "C. Multiplication\n",
      "D. Division\n",
      "E. Exit\n",
      "Input your choice: b\n",
      "Subtraction\n",
      "Enter the first number: 8\n",
      "Enter the second number: 2\n",
      "6\n",
      "A. Addition\n",
      "B. Subtraction\n",
      "C. Multiplication\n",
      "D. Division\n",
      "E. Exit\n",
      "Input your choice: c\n",
      "Multiplication\n",
      "Enter the first number: 3\n",
      "Enter the second number: 4\n",
      "12\n",
      "A. Addition\n",
      "B. Subtraction\n",
      "C. Multiplication\n",
      "D. Division\n",
      "E. Exit\n",
      "Input your choice: d\n",
      "Division\n",
      "Enter the first number: 6\n",
      "Enter the second number: 2\n",
      "3.0\n",
      "A. Addition\n",
      "B. Subtraction\n",
      "C. Multiplication\n",
      "D. Division\n",
      "E. Exit\n",
      "Input your choice: e\n",
      "Program ended\n"
     ]
    }
   ],
   "source": [
    "def add(a, b):\n",
    "    answer = a + b\n",
    "    print(answer)\n",
    "\n",
    "def sub(a, b):\n",
    "    answer = a - b\n",
    "    print(answer)\n",
    "\n",
    "def mul(a, b):\n",
    "    answer = a * b\n",
    "    print(answer)\n",
    "\n",
    "def div(a, b):\n",
    "    answer = a / b\n",
    "    print(answer)\n",
    "\n",
    "while True:\n",
    "    print(\"A. Addition\")\n",
    "    print(\"B. Subtraction\")\n",
    "    print(\"C. Multiplication\")\n",
    "    print(\"D. Division\")\n",
    "    print(\"E. Exit\")\n",
    "    choice = input(\"Input your choice: \")\n",
    "\n",
    "    if choice.lower() == 'a':\n",
    "        print(\"Addition\")\n",
    "        a = int(input('Enter the first number: '))\n",
    "        b = int(input('Enter the second number: '))\n",
    "        add(a, b)\n",
    "    elif choice.lower() == 'b':\n",
    "        print(\"Subtraction\")\n",
    "        a = int(input(\"Enter the first number: \"))\n",
    "        b = int(input(\"Enter the second number: \"))\n",
    "        sub(a, b)\n",
    "    elif choice.lower() == 'c':\n",
    "        print(\"Multiplication\")\n",
    "        a = int(input(\"Enter the first number: \"))\n",
    "        b = int(input(\"Enter the second number: \"))\n",
    "        mul(a, b)\n",
    "    elif choice.lower() == 'd':\n",
    "        print(\"Division\")\n",
    "        a = int(input(\"Enter the first number: \"))\n",
    "        b = int(input(\"Enter the second number: \"))\n",
    "        div(a, b)\n",
    "    elif choice.lower() == 'e':\n",
    "        print(\"Program ended\")\n",
    "        break\n",
    "    else:\n",
    "        print(\"Invalid choice. Please choose a valid option (A, B, C, D, or E).\")"
   ]
  },
  {
   "cell_type": "markdown",
   "id": "bdbcd9f9",
   "metadata": {},
   "source": [
    "# 3) Email slicer program: It is the program that takes a particular email and then slices(separate(split)) into:\n",
    "            # username( that comes before @)\n",
    "            # domain name(that comes after @)\n",
    "            # extensionname(gmail.com)\n",
    "            # dextension(after . part)"
   ]
  },
  {
   "cell_type": "markdown",
   "id": "2b4f80d3",
   "metadata": {},
   "source": [
    "# steps envolved in this program:\n",
    "        # collect email from different users\n",
    "        # split the eamil using \"@\" the first part is username and the second part is gonna domainname\n",
    "        # split the domain using '.'"
   ]
  },
  {
   "cell_type": "code",
   "execution_count": 11,
   "id": "3d1c1a79",
   "metadata": {},
   "outputs": [
    {
     "name": "stdout",
     "output_type": "stream",
     "text": [
      "Welcome to Email slicer program!\n",
      "enter your email address:margaganati.jesus@gmail.com\n",
      "Username: margaganati.jesus\n",
      "domain: gmail\n",
      "extension: com\n"
     ]
    }
   ],
   "source": [
    "def main():\n",
    "    print(\"Welcome to Email slicer program!\")\n",
    "    \n",
    "    email_input=input(\"enter your email address:\")\n",
    "    (username,domain)=email_input.split(\"@\")\n",
    "    (domain,extension)=domain.split(\".\")\n",
    "    print(\"Username:\",username)\n",
    "    print(\"domain:\",domain)\n",
    "    print(\"extension:\",extension)\n",
    "main()"
   ]
  },
  {
   "cell_type": "markdown",
   "id": "650e8e8c",
   "metadata": {},
   "source": [
    "# 4) Binary Search Progarm:\n",
    "# The aim of this program is to find the target value by taking the list of data.¶¶"
   ]
  },
  {
   "cell_type": "code",
   "execution_count": 12,
   "id": "5afa99a2",
   "metadata": {},
   "outputs": [
    {
     "data": {
      "text/plain": [
       "5"
      ]
     },
     "execution_count": 12,
     "metadata": {},
     "output_type": "execute_result"
    }
   ],
   "source": [
    "4 and 5"
   ]
  },
  {
   "cell_type": "code",
   "execution_count": 13,
   "id": "851d0899",
   "metadata": {},
   "outputs": [
    {
     "data": {
      "text/plain": [
       "3"
      ]
     },
     "execution_count": 13,
     "metadata": {},
     "output_type": "execute_result"
    }
   ],
   "source": [
    "3 or 5"
   ]
  },
  {
   "cell_type": "markdown",
   "id": "b326bf1b",
   "metadata": {},
   "source": [
    "# 5) Quiz program:\n",
    "# This program contains a list of dictionary that contains the questions and answers and we are going to ask those question and give her/ his score out of the question given for the users.¶"
   ]
  },
  {
   "cell_type": "markdown",
   "id": "e2b4989a",
   "metadata": {},
   "source": [
    "# Steps that we will follow: we need the following.\n",
    "    # A dictionary that stores questions and answers\n",
    "    # have a variable that tracks the score of the players/users\n",
    "    # loop through the dictionary using key value pairs\n",
    "    # Display each question to the users and alow them to answer\n",
    "    # Tell them wether they are right or wrong\n",
    "    # Show the final result when the quiz is completed"
   ]
  },
  {
   "cell_type": "code",
   "execution_count": 3,
   "id": "3d39994d",
   "metadata": {},
   "outputs": [
    {
     "name": "stdout",
     "output_type": "stream",
     "text": [
      "what is the capital city of Ethiopia\n",
      "Answer?Addis Abeba\n",
      "wrong\n",
      "The answer is: Addis Ababa\n",
      "your score is:0\n",
      "what is the capital city of Italy\n",
      "Answer?rome\n",
      "correct\n",
      "your score is:1\n",
      "what is the capital city of Austria\n",
      "Answer?vienna\n",
      "correct\n",
      "your score is:2\n",
      "what is the capital city of Germany\n",
      "Answer?berlin\n",
      "correct\n",
      "your score is:3\n",
      "what is the capital city of Switzerland\n",
      "Answer?bern\n",
      "correct\n",
      "your score is:4\n",
      "what is the capital city of Portugal\n",
      "Answer?lisbon\n",
      "correct\n",
      "your score is:5\n",
      "what is the capital city of Kenya\n",
      "Answer?nairobi\n",
      "correct\n",
      "your score is:6\n",
      "you got 6out of 7 question correctly\n",
      "your percentage is 85.71428571428571%\n"
     ]
    }
   ],
   "source": [
    "quiz={\n",
    "    \"question1\":{\n",
    "        \"question\":\"what is the capital city of Ethiopia\",\n",
    "        \"answer\":\"Addis Ababa\"\n",
    "    },\n",
    "    \"question2\":{\n",
    "        \"question\":\"what is the capital city of Italy\",\n",
    "        \"answer\":\"Rome\"\n",
    "    },\n",
    "    \"question3\":{\n",
    "       \"question\":\"what is the capital city of Austria\",\n",
    "       \"answer\":\"Vienna\"\n",
    "   },\n",
    "    \"question4\":{\n",
    "        \"question\":\"what is the capital city of Germany\",\n",
    "        \"answer\":\"Berlin\"\n",
    "    },\n",
    "    \"question5\":{\n",
    "        \"question\":\"what is the capital city of Switzerland\",\n",
    "        \"answer\":\"Bern\"\n",
    "    },\n",
    "    \"question6\":{\n",
    "        \"question\":\"what is the capital city of Portugal\",\n",
    "        \"answer\":\"Lisbon\"\n",
    "    },\n",
    "    \"question7\":{\n",
    "        \"question\":\"what is the capital city of Kenya\",\n",
    "        \"answer\":\"Nairobi\"\n",
    "    }\n",
    "}\n",
    "score=0\n",
    "for key,value in  quiz.items():# this is the way in which we loop through dictionary\n",
    "    print(value['question'])\n",
    "    answer=input('Answer?')\n",
    "    if answer.lower()==value['answer'].lower():\n",
    "        print('correct')\n",
    "        score=score + 1\n",
    "        print('your score is:' +str(score))\n",
    "    else:\n",
    "        print('wrong')\n",
    "        print('The answer is: ' + value['answer'])\n",
    "        print('your score is:' + str(score))\n",
    "        \n",
    "        \n",
    "print('you got ' + str(score) + 'out of 7 question correctly')\n",
    "print('your percentage is ' + str(score/7*100)+ '%')\n"
   ]
  },
  {
   "cell_type": "markdown",
   "id": "c10a52cf",
   "metadata": {},
   "source": [
    "# 6) Qr code Generator Program\n",
    "# This progrm show how we will going to convert a text or link to QR code using python"
   ]
  },
  {
   "cell_type": "markdown",
   "id": "90de1268",
   "metadata": {},
   "source": [
    "# steps which we wil follow:\n",
    "            # install all library needed\n",
    "            # create a function that collect text and convert to qr code\n",
    "            # save a qr code as image\n",
    "            # run the function"
   ]
  },
  {
   "cell_type": "markdown",
   "id": "66978f98",
   "metadata": {},
   "source": [
    "# qrcode: refers to quick response code full name"
   ]
  },
  {
   "cell_type": "code",
   "execution_count": 7,
   "id": "29b5ff6d",
   "metadata": {},
   "outputs": [
    {
     "name": "stdout",
     "output_type": "stream",
     "text": [
      "Requirement already satisfied: qrcode in c:\\users\\marga\\anaconda3\\lib\\site-packages (7.4.2)\n",
      "Requirement already satisfied: Image in c:\\users\\marga\\anaconda3\\lib\\site-packages (1.5.33)\n",
      "Requirement already satisfied: typing-extensions in c:\\users\\marga\\anaconda3\\lib\\site-packages (from qrcode) (4.6.3)\n",
      "Requirement already satisfied: pypng in c:\\users\\marga\\anaconda3\\lib\\site-packages (from qrcode) (0.20220715.0)\n",
      "Requirement already satisfied: colorama in c:\\users\\marga\\anaconda3\\lib\\site-packages (from qrcode) (0.4.6)\n",
      "Requirement already satisfied: pillow in c:\\users\\marga\\anaconda3\\lib\\site-packages (from Image) (9.4.0)\n",
      "Requirement already satisfied: django in c:\\users\\marga\\anaconda3\\lib\\site-packages (from Image) (5.0.2)\n",
      "Requirement already satisfied: six in c:\\users\\marga\\anaconda3\\lib\\site-packages (from Image) (1.16.0)\n",
      "Requirement already satisfied: asgiref<4,>=3.7.0 in c:\\users\\marga\\anaconda3\\lib\\site-packages (from django->Image) (3.7.2)\n",
      "Requirement already satisfied: sqlparse>=0.3.1 in c:\\users\\marga\\anaconda3\\lib\\site-packages (from django->Image) (0.4.4)\n",
      "Requirement already satisfied: tzdata in c:\\users\\marga\\anaconda3\\lib\\site-packages (from django->Image) (2023.3)\n"
     ]
    },
    {
     "name": "stderr",
     "output_type": "stream",
     "text": [
      "WARNING: Skipping C:\\Users\\marga\\anaconda3\\Lib\\site-packages\\mysql_connector-2.2.9.dist-info due to invalid metadata entry 'name'\n",
      "WARNING: Skipping C:\\Users\\marga\\anaconda3\\Lib\\site-packages\\mysql_connector-2.2.9.dist-info due to invalid metadata entry 'name'\n",
      "WARNING: Skipping C:\\Users\\marga\\anaconda3\\Lib\\site-packages\\mysql_connector-2.2.9.dist-info due to invalid metadata entry 'name'\n",
      "WARNING: Skipping C:\\Users\\marga\\anaconda3\\Lib\\site-packages\\mysql_connector-2.2.9.dist-info due to invalid metadata entry 'name'\n",
      "WARNING: Skipping C:\\Users\\marga\\anaconda3\\Lib\\site-packages\\mysql_connector-2.2.9.dist-info due to invalid metadata entry 'name'\n",
      "WARNING: Skipping C:\\Users\\marga\\anaconda3\\Lib\\site-packages\\mysql_connector-2.2.9.dist-info due to invalid metadata entry 'name'\n"
     ]
    }
   ],
   "source": [
    "! pip3 install qrcode Image"
   ]
  },
  {
   "cell_type": "code",
   "execution_count": 2,
   "id": "df1d1352",
   "metadata": {},
   "outputs": [
    {
     "name": "stdout",
     "output_type": "stream",
     "text": [
      "Requirement already satisfied: pillow in c:\\users\\marga\\anaconda3\\lib\\site-packages (9.4.0)\n",
      "Note: you may need to restart the kernel to use updated packages.\n"
     ]
    },
    {
     "name": "stderr",
     "output_type": "stream",
     "text": [
      "WARNING: Skipping C:\\Users\\marga\\anaconda3\\Lib\\site-packages\\mysql_connector-2.2.9.dist-info due to invalid metadata entry 'name'\n",
      "WARNING: Skipping C:\\Users\\marga\\anaconda3\\Lib\\site-packages\\mysql_connector-2.2.9.dist-info due to invalid metadata entry 'name'\n",
      "WARNING: Skipping C:\\Users\\marga\\anaconda3\\Lib\\site-packages\\mysql_connector-2.2.9.dist-info due to invalid metadata entry 'name'\n",
      "WARNING: Skipping C:\\Users\\marga\\anaconda3\\Lib\\site-packages\\mysql_connector-2.2.9.dist-info due to invalid metadata entry 'name'\n",
      "WARNING: Skipping C:\\Users\\marga\\anaconda3\\Lib\\site-packages\\mysql_connector-2.2.9.dist-info due to invalid metadata entry 'name'\n",
      "WARNING: Skipping C:\\Users\\marga\\anaconda3\\Lib\\site-packages\\mysql_connector-2.2.9.dist-info due to invalid metadata entry 'name'\n"
     ]
    }
   ],
   "source": [
    "pip install pillow\n"
   ]
  },
  {
   "cell_type": "code",
   "execution_count": 4,
   "id": "4d3f651a",
   "metadata": {},
   "outputs": [],
   "source": [
    "import qrcode\n",
    "\n",
    "def generate_qrcode(text):\n",
    "    qr = qrcode.QRCode(\n",
    "        version=1,\n",
    "        error_correction=qrcode.constants.ERROR_CORRECT_L,\n",
    "        box_size=10,\n",
    "        border=4\n",
    "    )\n",
    "    qr.add_data(text)\n",
    "    qr.make(fit=True)\n",
    "    img = qr.make_image(fill_color='black', back_color='white')\n",
    "    img.save('qrimg.png')\n",
    "\n",
    "generate_qrcode('https://WWW.codewithmarga.com')# this saved under file marga in the computer in the form of qrcode and \n",
    "                                            # nothing will be obtained on this site it will saved in another directly check!"
   ]
  },
  {
   "cell_type": "code",
   "execution_count": 7,
   "id": "f395f120",
   "metadata": {},
   "outputs": [
    {
     "name": "stdout",
     "output_type": "stream",
     "text": [
      "enter your url:https://WWW.codewithmarga.com\n"
     ]
    }
   ],
   "source": [
    "import qrcode\n",
    "\n",
    "def generate_qrcode(text):\n",
    "    qr = qrcode.QRCode(\n",
    "        version=1,\n",
    "        error_correction=qrcode.constants.ERROR_CORRECT_L,\n",
    "        box_size=10,\n",
    "        border=4\n",
    "    )\n",
    "    qr.add_data(text)\n",
    "    qr.make(fit=True)\n",
    "    img = qr.make_image(fill_color='black', back_color='white')\n",
    "    img.save('qrimg001.png')\n",
    "url=input('enter your url:')\n",
    "generate_qrcode(url)# the img for qrcode is saved in file called marga. or you can get under the same directory here Homepage."
   ]
  },
  {
   "cell_type": "markdown",
   "id": "e20b46d7",
   "metadata": {},
   "source": [
    "# 'qrimg.png'and 'qrimg001.png' are avialable under jupiter notebook same directory(Homepage)"
   ]
  },
  {
   "cell_type": "code",
   "execution_count": 12,
   "id": "308d2975",
   "metadata": {},
   "outputs": [
    {
     "data": {
      "text/plain": [
       "6"
      ]
     },
     "execution_count": 12,
     "metadata": {},
     "output_type": "execute_result"
    }
   ],
   "source": [
    "def greater(a,b):\n",
    "    if(a>b): \n",
    "        greater=a\n",
    "    else:\n",
    "        greater=b\n",
    "        return greater\n",
    "greater(4,6)"
   ]
  },
  {
   "cell_type": "markdown",
   "id": "285c8c2a",
   "metadata": {},
   "source": [
    "# 7) Interest Rate Monthly Payement Calculator program\n",
    "# it is the program thhat takes\n",
    "        #  Principal(initial amount borrowed),\n",
    "        # Apr(annula perentage rate(which indicate the amount of rate that it increase per year)),\n",
    "        # year( in how many year it will pay back) and calculate annual percentage rate of the loan"
   ]
  },
  {
   "cell_type": "markdown",
   "id": "f71ca7c3",
   "metadata": {},
   "source": [
    "# steps: i) collect the necessary inputs: principal,apr and  years\n",
    "# ii) calculate monthly payment\n",
    "# iii) show to the users"
   ]
  },
  {
   "cell_type": "code",
   "execution_count": 5,
   "id": "fccedbf9",
   "metadata": {},
   "outputs": [
    {
     "name": "stdout",
     "output_type": "stream",
     "text": [
      " This Is Monthly payment Rate Calculator Program\n",
      "\n",
      "input the amount of loan:50000\n",
      "input the annual interest rate:3\n",
      "inputs amount of years:10\n",
      "monthly payment amount for this loan is: 482.80372349195653\n"
     ]
    }
   ],
   "source": [
    "def main():\n",
    "    print(\" This Is Monthly payment Rate Calculator Program\")\n",
    "    print(\"\")\n",
    "    \n",
    "    principal=float(input(\"input the amount of loan:\"))\n",
    "    apr=float(input(\"input the annual interest rate:\"))\n",
    "    year=int(input(\"inputs amount of years:\"))\n",
    "    \n",
    "    monthly_interest_rate=apr/1200 # this comes from since one year has 12 month and when we express apr in percentage *100.or\n",
    "    amount_of_months=year*12 # since one year has 12 months and we are calculating total months in this case.\n",
    "    monthly_payment= principal*monthly_interest_rate/(1-(1+monthly_interest_rate)**(-amount_of_months))\n",
    "    \n",
    "    print(\"monthly payment amount for this loan is:\" ,monthly_payment)\n",
    "main()\n",
    "    \n",
    "    \n",
    "    "
   ]
  },
  {
   "cell_type": "markdown",
   "id": "aa45e8e8",
   "metadata": {},
   "source": [
    "# To change to 2 decimal place for the above output we can rewrite the above code as follow on the last line."
   ]
  },
  {
   "cell_type": "code",
   "execution_count": 13,
   "id": "e10f5157",
   "metadata": {},
   "outputs": [
    {
     "name": "stdout",
     "output_type": "stream",
     "text": [
      " This Is Monthly payment Rate Calculator Program\n",
      "\n",
      "input the amount of loan:50000\n",
      "input the annual interest rate:3\n",
      "inputs amount of years:10\n",
      "monthly payment amount for this loan is: 482.80 \n"
     ]
    }
   ],
   "source": [
    "def main():\n",
    "    print(\" This Is Monthly payment Rate Calculator Program\")\n",
    "    print(\"\")\n",
    "    \n",
    "    principal=float(input(\"input the amount of loan:\"))\n",
    "    apr=float(input(\"input the annual interest rate:\"))\n",
    "    year=int(input(\"inputs amount of years:\"))\n",
    "    \n",
    "    monthly_interest_rate=apr/1200 # this comes from since one year has 12 month and when we express apr in percentage *100.or\n",
    "    amount_of_months=year*12 # since one year has 12 months and we are calculating total months in this case.\n",
    "    monthly_payment= principal*monthly_interest_rate/(1-(1+monthly_interest_rate)**(-amount_of_months))\n",
    "    \n",
    "    print(\"monthly payment amount for this loan is: %.2f \"%monthly_payment)# , is removed here to bring int to 2 decimal place.\n",
    "main()"
   ]
  },
  {
   "cell_type": "markdown",
   "id": "98c0dd93",
   "metadata": {},
   "source": [
    "# 8) Random Password Generator\n",
    "# This program ask the user to generate password and if he/she want to genereate the password it will ask the length of password and after that it will generate password unless and otherwise it will exit."
   ]
  },
  {
   "cell_type": "markdown",
   "id": "0e652c4b",
   "metadata": {},
   "source": [
    "# i) Steps which we will follow during this project:\n",
    "# Ask the user if they want to generate the password or not\n",
    "# if yes ask for the password lengh\n",
    "# generate password\n",
    "# print pasword\n",
    "# if the initial response is no, exit the program"
   ]
  },
  {
   "cell_type": "code",
   "execution_count": 1,
   "id": "6b95ad6e",
   "metadata": {},
   "outputs": [],
   "source": [
    "import string\n",
    "import random\n"
   ]
  },
  {
   "cell_type": "code",
   "execution_count": 4,
   "id": "76b692f0",
   "metadata": {},
   "outputs": [
    {
     "name": "stdout",
     "output_type": "stream",
     "text": [
      "do yo wnat to generate password:(Yes/No): Yes\n",
      " welcome to Password Generator Program\n",
      "enter your password length20\n",
      "here is your password! mGvh(qJdijlYiJFAEX8&\n"
     ]
    }
   ],
   "source": [
    "characters=list(string.ascii_letters + string.digits + \"!@#$%^&()\" )\n",
    "def generate_password():\n",
    "    print(\" welcome to Password Generator Program\")\n",
    "    password_length=int(input(\"enter your password length\"))\n",
    "    random.shuffle(characters)# this code shuffle through the given characters.\n",
    "    password=[]\n",
    "    for x in range(password_length):\n",
    "        password.append(random.choice(characters))\n",
    "    random.shuffle(password)\n",
    "    password=\"\".join(password)\n",
    "    print(\"here is your password!\",password)\n",
    "option=input(\"do yo wnat to generate password:(Yes/No): \")\n",
    "if option==\"Yes\":\n",
    "    generate_password()# here the program enter into the function and excute the statements within this function.\n",
    "    \n",
    "elif option==\"No\":\n",
    "    print(\"program ended\")\n",
    "    quit()\n",
    "else:\n",
    "    print(\"invalid input,please provide/input yes or No!\")\n",
    "    quit()\n",
    "    \n"
   ]
  },
  {
   "cell_type": "markdown",
   "id": "9c963713",
   "metadata": {},
   "source": [
    "# 9 ) Dice Rolling Simulator program\n",
    "# This progrm will ask the user to roll or not and if the answer is Yes, it will randomly draw the dice between 1 and 6 inclusively and if not the program will end."
   ]
  },
  {
   "cell_type": "markdown",
   "id": "229d5a03",
   "metadata": {},
   "source": [
    "# i)steps we will follow:\n",
    "# import random\n",
    "# define function to roll dice\n",
    "# while loop to ask the user wether they will continue or not\n"
   ]
  },
  {
   "cell_type": "code",
   "execution_count": 5,
   "id": "ca76dbce",
   "metadata": {},
   "outputs": [
    {
     "name": "stdout",
     "output_type": "stream",
     "text": [
      "Roll dice? (yes/no): yes\n",
      "Dice rolled: 5 and 3\n",
      "Roll again? (yes/no): yes\n",
      "Dice rolled: 5 and 1\n",
      "Roll again? (yes/no): no\n"
     ]
    }
   ],
   "source": [
    "import random\n",
    "\n",
    "def roll_dice():\n",
    "    roll = input(\"Roll dice? (yes/no): \")\n",
    "    while roll.lower() == \"yes\":\n",
    "        dice1 = random.randint(1, 6)\n",
    "        dice2 = random.randint(1, 6)\n",
    "        print(\"Dice rolled: {} and {}\".format(dice1, dice2))\n",
    "        roll = input(\"Roll again? (yes/no): \")\n",
    "\n",
    "roll_dice()"
   ]
  },
  {
   "cell_type": "markdown",
   "id": "ad3ce11c",
   "metadata": {},
   "source": [
    "# 10) Site Connectivity Checker Project:\n",
    "# This project is talks about let say say you are particular link and check the statas of of that that site. if the site is connected with that link it correct and if it's not connected it will give some error."
   ]
  },
  {
   "cell_type": "markdown",
   "id": "b42df6a9",
   "metadata": {},
   "source": [
    "# steps needed(required):\n",
    "    # importng urllib\n",
    "    # use urllib to get the data from url\n",
    "    # write the function that takes url\n",
    "    # return response"
   ]
  },
  {
   "cell_type": "code",
   "execution_count": 8,
   "id": "a1ecb85e",
   "metadata": {},
   "outputs": [],
   "source": [
    "import urllib.request as urllib\n"
   ]
  },
  {
   "cell_type": "code",
   "execution_count": 14,
   "id": "32860829",
   "metadata": {},
   "outputs": [
    {
     "name": "stdout",
     "output_type": "stream",
     "text": [
      " this is the the site connectivity checker program!\n",
      " enter the url site you wnat to check!:https://www.google.com\n",
      " this is checking conectivity program!\n",
      "conneced to  https://www.google.com  succcesfully\n",
      "the resonse code was: 200\n"
     ]
    }
   ],
   "source": [
    "def main(url):\n",
    "    print(\" this is checking conectivity program!\")\n",
    "    response=urllib.urlopen(url)\n",
    "    print(\"conneced to \", url ,\" succcesfully\")\n",
    "    print(\"the resonse code was:\",response.getcode())\n",
    "print(\" this is the the site connectivity checker program!\")\n",
    "input_url=input(\" enter the url site you wnat to check!:\")\n",
    "main(input_url)\n"
   ]
  },
  {
   "cell_type": "markdown",
   "id": "280f4102",
   "metadata": {},
   "source": [
    "# 11) Dollars to Pound converter program:"
   ]
  },
  {
   "cell_type": "code",
   "execution_count": 23,
   "id": "1428a823",
   "metadata": {},
   "outputs": [
    {
     "name": "stdout",
     "output_type": "stream",
     "text": [
      "this is dollar to pound converter program\n",
      "enter amount of dollars you have:\n",
      "750\n",
      "you have: 615.0 change here\n"
     ]
    }
   ],
   "source": [
    "def main():\n",
    "    print(\"this is dollar to pound converter program\")\n",
    "    dollars=eval(input(\"enter amount of dollars you have:\\n\"))\n",
    "    pound=dollars*0.82\n",
    "    print(\"you have:\",pound,\"change here\")\n",
    "main()\n",
    "    "
   ]
  },
  {
   "cell_type": "markdown",
   "id": "ab5fad87",
   "metadata": {},
   "source": [
    "# 12) Word Dictionary Program"
   ]
  },
  {
   "cell_type": "markdown",
   "id": "49dab99e",
   "metadata": {},
   "source": [
    "# This Program Has The Following Steps:\n",
    "        # have python dictionary that has key/value pair that represent the word and it's definition.\n",
    "        # collect input from users. the input is the word\n",
    "        # check if the word is in the dictionary\n",
    "        # print the definition"
   ]
  },
  {
   "cell_type": "code",
   "execution_count": null,
   "id": "07a4ba3e",
   "metadata": {},
   "outputs": [
    {
     "name": "stdout",
     "output_type": "stream",
     "text": [
      "enter the word you want here:hi\n",
      "hi : the way of greeting\n",
      "enter the word you want here:marga\n",
      "marga : the name of engineer who will live in Norway next year\n",
      "enter the word you want here:eye\n",
      "eye :  oneof the organ for seeing\n",
      "enter the word you want here:ear\n",
      "ear : one of the organ for  hearing\n",
      "enter the word you want here:earth\n",
      "earth : a plsnet in space\n",
      "enter the word you want here:go\n",
      "please provide the correct word\n"
     ]
    }
   ],
   "source": [
    "def main():\n",
    "    word_dictionary={\n",
    "        'hi':'the way of greeting',\n",
    "        'earth':'a plsnet in space',\n",
    "        'ear':'one of the organ for  hearing',\n",
    "        'eye':' oneof the organ for seeing',\n",
    "        'marga': 'the name of engineer who will live in Norway next year'\n",
    "    }\n",
    "    while True:\n",
    "        word=input(\"enter the word you want here:\")\n",
    "        \n",
    "        if word in word_dictionary:\n",
    "            print(word,\":\",word_dictionary[word])\n",
    "        else:\n",
    "            print(\"please provide the correct word\")\n",
    "        \n",
    "            \n",
    "main()"
   ]
  },
  {
   "cell_type": "markdown",
   "id": "9a5358eb",
   "metadata": {},
   "source": [
    "def main():\n",
    "    print(\" welcome to word dictionary program\")\n",
    "    word_dictionary={\n",
    "        'hi':'the way of greeting',\n",
    "        'earth':'a plsnet in space',\n",
    "        'ear':'one of the organ for  hearing',\n",
    "        'eye':' oneof the organ for seeing',\n",
    "        'marga': 'the name of engineer who will live in Norway next year'\n",
    "    }\n",
    "    while True:\n",
    "        word=input(\"enter the word you want here:\")\n",
    "        \n",
    "        if word in word_dictionary:\n",
    "            print(word,\":\",word_dictionary[word])\n",
    "        else:\n",
    "            print(\"please provide the correct word\")\n",
    "            print(\"program ended\")\n",
    "            break\n",
    "        \n",
    "            \n",
    "main()"
   ]
  },
  {
   "cell_type": "code",
   "execution_count": null,
   "id": "80b52df5",
   "metadata": {},
   "outputs": [],
   "source": [
    "# 13) Rock,Paper  and Scissor program"
   ]
  },
  {
   "cell_type": "markdown",
   "id": "5bdfc40a",
   "metadata": {},
   "source": [
    "# 14) Pyhton Face Detectin  project\n",
    "# installing open cv_ python is needed for this project\n"
   ]
  },
  {
   "cell_type": "code",
   "execution_count": 2,
   "id": "adefb3ba",
   "metadata": {},
   "outputs": [
    {
     "name": "stdout",
     "output_type": "stream",
     "text": [
      "Collecting opencv-python\n",
      "  Downloading opencv_python-4.9.0.80-cp37-abi3-win_amd64.whl (38.6 MB)\n",
      "                                              0.0/38.6 MB ? eta -:--:--\n",
      "                                              0.0/38.6 MB 1.3 MB/s eta 0:00:31\n",
      "                                             0.0/38.6 MB 495.5 kB/s eta 0:01:18\n",
      "                                             0.1/38.6 MB 939.4 kB/s eta 0:00:41\n",
      "                                              0.2/38.6 MB 1.1 MB/s eta 0:00:34\n",
      "                                              0.3/38.6 MB 1.2 MB/s eta 0:00:32\n",
      "                                              0.5/38.6 MB 1.8 MB/s eta 0:00:21\n",
      "                                              0.6/38.6 MB 1.9 MB/s eta 0:00:20\n",
      "     -                                        1.0/38.6 MB 2.9 MB/s eta 0:00:13\n",
      "     -                                        1.3/38.6 MB 3.2 MB/s eta 0:00:12\n",
      "     -                                        1.9/38.6 MB 4.1 MB/s eta 0:00:09\n",
      "     -                                        1.9/38.6 MB 4.2 MB/s eta 0:00:09\n",
      "     --                                       2.4/38.6 MB 4.5 MB/s eta 0:00:09\n",
      "     ---                                      3.0/38.6 MB 5.3 MB/s eta 0:00:07\n",
      "     ---                                      3.3/38.6 MB 5.1 MB/s eta 0:00:07\n",
      "     ---                                      3.7/38.6 MB 5.4 MB/s eta 0:00:07\n",
      "     ---                                      3.7/38.6 MB 5.4 MB/s eta 0:00:07\n",
      "     ---                                      3.8/38.6 MB 4.8 MB/s eta 0:00:08\n",
      "     ----                                     4.5/38.6 MB 5.5 MB/s eta 0:00:07\n",
      "     -----                                    5.4/38.6 MB 6.2 MB/s eta 0:00:06\n",
      "     -----                                    5.6/38.6 MB 6.3 MB/s eta 0:00:06\n",
      "     -----                                    5.6/38.6 MB 6.3 MB/s eta 0:00:06\n",
      "     -------                                  6.8/38.6 MB 6.7 MB/s eta 0:00:05\n",
      "     -------                                  7.3/38.6 MB 6.9 MB/s eta 0:00:05\n",
      "     -------                                  7.7/38.6 MB 7.0 MB/s eta 0:00:05\n",
      "     --------                                 8.1/38.6 MB 7.0 MB/s eta 0:00:05\n",
      "     --------                                 8.5/38.6 MB 7.1 MB/s eta 0:00:05\n",
      "     ---------                                8.9/38.6 MB 7.2 MB/s eta 0:00:05\n",
      "     ---------                                9.4/38.6 MB 7.2 MB/s eta 0:00:05\n",
      "     ----------                               9.8/38.6 MB 7.3 MB/s eta 0:00:04\n",
      "     ----------                               10.2/38.6 MB 7.3 MB/s eta 0:00:04\n",
      "     -----------                              10.7/38.6 MB 8.6 MB/s eta 0:00:04\n",
      "     -----------                              11.1/38.6 MB 9.0 MB/s eta 0:00:04\n",
      "     -----------                              11.5/38.6 MB 9.2 MB/s eta 0:00:03\n",
      "     ------------                             11.9/38.6 MB 9.1 MB/s eta 0:00:03\n",
      "     ------------                             12.3/38.6 MB 9.5 MB/s eta 0:00:03\n",
      "     -------------                            12.8/38.6 MB 9.4 MB/s eta 0:00:03\n",
      "     -------------                            13.2/38.6 MB 9.0 MB/s eta 0:00:03\n",
      "     --------------                           13.7/38.6 MB 9.2 MB/s eta 0:00:03\n",
      "     --------------                          14.2/38.6 MB 10.1 MB/s eta 0:00:03\n",
      "     ---------------                          14.6/38.6 MB 9.9 MB/s eta 0:00:03\n",
      "     ---------------                          15.1/38.6 MB 9.6 MB/s eta 0:00:03\n",
      "     ----------------                         15.5/38.6 MB 9.4 MB/s eta 0:00:03\n",
      "     ----------------                        16.0/38.6 MB 10.1 MB/s eta 0:00:03\n",
      "     ----------------                         16.4/38.6 MB 9.6 MB/s eta 0:00:03\n",
      "     -----------------                        16.9/38.6 MB 9.4 MB/s eta 0:00:03\n",
      "     -----------------                        17.3/38.6 MB 9.4 MB/s eta 0:00:03\n",
      "     ------------------                       17.8/38.6 MB 9.4 MB/s eta 0:00:03\n",
      "     ------------------                       18.2/38.6 MB 9.4 MB/s eta 0:00:03\n",
      "     -------------------                      18.7/38.6 MB 9.5 MB/s eta 0:00:03\n",
      "     -------------------                      19.2/38.6 MB 9.5 MB/s eta 0:00:03\n",
      "     --------------------                     19.7/38.6 MB 9.4 MB/s eta 0:00:03\n",
      "     --------------------                     20.2/38.6 MB 9.5 MB/s eta 0:00:02\n",
      "     ---------------------                    20.5/38.6 MB 9.5 MB/s eta 0:00:02\n",
      "     ---------------------                    21.0/38.6 MB 9.6 MB/s eta 0:00:02\n",
      "     ----------------------                   21.4/38.6 MB 9.6 MB/s eta 0:00:02\n",
      "     ----------------------                   21.9/38.6 MB 9.6 MB/s eta 0:00:02\n",
      "     -----------------------                  22.4/38.6 MB 9.6 MB/s eta 0:00:02\n",
      "     -----------------------                  22.8/38.6 MB 9.6 MB/s eta 0:00:02\n",
      "     ------------------------                 23.3/38.6 MB 9.6 MB/s eta 0:00:02\n",
      "     ------------------------                 23.7/38.6 MB 9.6 MB/s eta 0:00:02\n",
      "     ------------------------                 24.1/38.6 MB 9.6 MB/s eta 0:00:02\n",
      "     -------------------------                24.6/38.6 MB 9.5 MB/s eta 0:00:02\n",
      "     --------------------------               25.1/38.6 MB 9.5 MB/s eta 0:00:02\n",
      "     --------------------------               25.5/38.6 MB 9.8 MB/s eta 0:00:02\n",
      "     --------------------------               26.0/38.6 MB 9.6 MB/s eta 0:00:02\n",
      "     ---------------------------              26.5/38.6 MB 9.6 MB/s eta 0:00:02\n",
      "     ---------------------------              27.0/38.6 MB 9.6 MB/s eta 0:00:02\n",
      "     ----------------------------             27.4/38.6 MB 9.8 MB/s eta 0:00:02\n",
      "     ----------------------------             28.0/38.6 MB 9.9 MB/s eta 0:00:02\n",
      "     -----------------------------            28.4/38.6 MB 9.8 MB/s eta 0:00:02\n",
      "     -----------------------------            28.9/38.6 MB 9.9 MB/s eta 0:00:01\n",
      "     ------------------------------           29.4/38.6 MB 9.9 MB/s eta 0:00:01\n",
      "     ------------------------------           29.9/38.6 MB 9.9 MB/s eta 0:00:01\n",
      "     ------------------------------          30.4/38.6 MB 10.1 MB/s eta 0:00:01\n",
      "     -------------------------------         30.8/38.6 MB 10.1 MB/s eta 0:00:01\n",
      "     -------------------------------         31.3/38.6 MB 10.1 MB/s eta 0:00:01\n",
      "     --------------------------------        31.8/38.6 MB 10.2 MB/s eta 0:00:01\n",
      "     --------------------------------        32.2/38.6 MB 10.1 MB/s eta 0:00:01\n",
      "     ---------------------------------       32.8/38.6 MB 10.2 MB/s eta 0:00:01\n",
      "     ---------------------------------       33.3/38.6 MB 10.2 MB/s eta 0:00:01\n",
      "     ----------------------------------      33.7/38.6 MB 10.2 MB/s eta 0:00:01\n",
      "     ----------------------------------      34.3/38.6 MB 10.2 MB/s eta 0:00:01\n",
      "     -----------------------------------     34.7/38.6 MB 10.4 MB/s eta 0:00:01\n",
      "     -----------------------------------     35.3/38.6 MB 10.2 MB/s eta 0:00:01\n",
      "     ------------------------------------    35.7/38.6 MB 10.4 MB/s eta 0:00:01\n",
      "     ------------------------------------    36.2/38.6 MB 10.4 MB/s eta 0:00:01\n",
      "     ------------------------------------    36.6/38.6 MB 10.2 MB/s eta 0:00:01\n",
      "     -------------------------------------   37.0/38.6 MB 10.2 MB/s eta 0:00:01\n",
      "     -------------------------------------   37.5/38.6 MB 10.2 MB/s eta 0:00:01\n",
      "     --------------------------------------  37.9/38.6 MB 10.1 MB/s eta 0:00:01\n",
      "     --------------------------------------  38.3/38.6 MB 10.2 MB/s eta 0:00:01\n",
      "     --------------------------------------  38.6/38.6 MB 10.1 MB/s eta 0:00:01\n",
      "     --------------------------------------  38.6/38.6 MB 10.1 MB/s eta 0:00:01\n",
      "     --------------------------------------  38.6/38.6 MB 10.1 MB/s eta 0:00:01\n",
      "     --------------------------------------  38.6/38.6 MB 10.1 MB/s eta 0:00:01\n",
      "     --------------------------------------  38.6/38.6 MB 10.1 MB/s eta 0:00:01\n",
      "     --------------------------------------  38.6/38.6 MB 10.1 MB/s eta 0:00:01\n",
      "     --------------------------------------  38.6/38.6 MB 10.1 MB/s eta 0:00:01\n",
      "     ---------------------------------------- 38.6/38.6 MB 7.6 MB/s eta 0:00:00\n",
      "Requirement already satisfied: numpy>=1.21.2 in c:\\users\\marga\\anaconda3\\lib\\site-packages (from opencv-python) (1.24.3)\n",
      "Installing collected packages: opencv-python\n",
      "Successfully installed opencv-python-4.9.0.80\n",
      "Note: you may need to restart the kernel to use updated packages.\n"
     ]
    },
    {
     "name": "stderr",
     "output_type": "stream",
     "text": [
      "WARNING: Skipping C:\\Users\\marga\\anaconda3\\Lib\\site-packages\\mysql_connector-2.2.9.dist-info due to invalid metadata entry 'name'\n",
      "WARNING: Skipping C:\\Users\\marga\\anaconda3\\Lib\\site-packages\\mysql_connector-2.2.9.dist-info due to invalid metadata entry 'name'\n",
      "WARNING: Skipping C:\\Users\\marga\\anaconda3\\Lib\\site-packages\\mysql_connector-2.2.9.dist-info due to invalid metadata entry 'name'\n",
      "WARNING: Skipping C:\\Users\\marga\\anaconda3\\Lib\\site-packages\\mysql_connector-2.2.9.dist-info due to invalid metadata entry 'name'\n",
      "WARNING: Skipping C:\\Users\\marga\\anaconda3\\Lib\\site-packages\\mysql_connector-2.2.9.dist-info due to invalid metadata entry 'name'\n",
      "WARNING: Skipping C:\\Users\\marga\\anaconda3\\Lib\\site-packages\\mysql_connector-2.2.9.dist-info due to invalid metadata entry 'name'\n",
      "WARNING: Skipping C:\\Users\\marga\\anaconda3\\Lib\\site-packages\\mysql_connector-2.2.9.dist-info due to invalid metadata entry 'name'\n"
     ]
    }
   ],
   "source": [
    "pip install opencv-python"
   ]
  },
  {
   "cell_type": "code",
   "execution_count": 5,
   "id": "cd886358",
   "metadata": {},
   "outputs": [],
   "source": [
    "import cv2"
   ]
  },
  {
   "cell_type": "code",
   "execution_count": 14,
   "id": "f0b2ccc8",
   "metadata": {},
   "outputs": [
    {
     "name": "stdout",
     "output_type": "stream",
     "text": [
      "[1, 3, 4, 5, 7, 8]\n"
     ]
    }
   ],
   "source": [
    "x = [1, 7, 3, 5, 8, 4]\n",
    "x.sort()  # Call the sort() method on list x to sort it in-place\n",
    "y = x     # Now y will be the sorted version of list x\n",
    "print(y)"
   ]
  },
  {
   "cell_type": "code",
   "execution_count": null,
   "id": "8dd10991",
   "metadata": {},
   "outputs": [],
   "source": []
  }
 ],
 "metadata": {
  "kernelspec": {
   "display_name": "Python 3 (ipykernel)",
   "language": "python",
   "name": "python3"
  },
  "language_info": {
   "codemirror_mode": {
    "name": "ipython",
    "version": 3
   },
   "file_extension": ".py",
   "mimetype": "text/x-python",
   "name": "python",
   "nbconvert_exporter": "python",
   "pygments_lexer": "ipython3",
   "version": "3.11.3"
  }
 },
 "nbformat": 4,
 "nbformat_minor": 5
}
